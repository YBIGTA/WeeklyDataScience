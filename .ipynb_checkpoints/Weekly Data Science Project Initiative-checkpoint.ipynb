{
 "cells": [
  {
   "cell_type": "markdown",
   "metadata": {},
   "source": [
    "# 주간 데이터 사이언스\n",
    "\n",
    "## Weekly Data Science"
   ]
  },
  {
   "cell_type": "markdown",
   "metadata": {},
   "source": [
    "# 아이디어"
   ]
  },
  {
   "cell_type": "markdown",
   "metadata": {},
   "source": [
    "“월드 오브 구”(World of Goo)"
   ]
  },
  {
   "cell_type": "markdown",
   "metadata": {},
   "source": [
    "“월드 오브 구”(World of Goo, 피그민 리뷰)를 해보신 적이 있나요? 제 정신이 아닌 게임 아이디어가 있다. 끈적한 덩어리를 끌어서 거대한 탑을 높이 높이 세우는 거다. 덩어리는 꿈틀거리고 낄낄대며 자기 형제를 타고 기어 올라간다. 하지만 끝없이 중력과 싸워야 한다. 탑이 불안정하게 세워진다면 모두 무너져 버릴 거다. \n",
    "\n",
    "이 퍼즐게임은 2008년 커다란 화제를 몰고 왔습니다. 이 게임 뿐만 아니라 이 게임이 만들어진 방식도 게임 산업에서 나름 반향을 일으켰습니다. 이 게임은 2005년 네 명의 대학원생이 진행했던 실험 프로젝트에서 기인했습니다. 그 프로젝트란 바로 “익스페리멘탈 게임플레이 프로젝트”란 이름으로 새로운 형식의 게임플레이를 발굴하기 위해 일주일 안에 민첩하게 프로토타입 게임을 만드는 것이었습니다. 약 50여개가 넘는 게임이 탄생해 인터넷으로 공개되었고, 그 중 대중적으로 가장 호응이 좋았던 “타워 오브 구”(Tower of Goo)라는 게임이 바로 “월드 오브 구”의 전신입니다.\n",
    "\n",
    "2005년 당시 그들의 프로젝트는 게임 산업에도 나름 반향을 일으켰습니다. 어떻게 그렇게 빠른 시일 내에 프로토타입을 만들 수 있었느냐는 거죠."
   ]
  },
  {
   "cell_type": "markdown",
   "metadata": {},
   "source": [
    "일주일 안에 게임 프로토타입 만들기"
   ]
  },
  {
   "cell_type": "markdown",
   "metadata": {},
   "source": [
    "익스페리멘탈 게임플레이 프로젝트 세가지 원칙"
   ]
  },
  {
   "cell_type": "markdown",
   "metadata": {},
   "source": [
    "- 각 게임은 7일 안에 만들어야 한다.\n",
    "\n",
    "- 각 게임은 정확히 한 사람이 만들어야 한다.\n",
    "\n",
    "- 각 게임은 “중력”, “식물”, “벌떼” 등 일상적인 주제를 바탕으로 해야 한다."
   ]
  },
  {
   "cell_type": "markdown",
   "metadata": {},
   "source": [
    "주간 데이터 사이언스 프로젝트 세가지 원칙"
   ]
  },
  {
   "cell_type": "markdown",
   "metadata": {},
   "source": [
    "- 각 데이터 분석은 7일 안에 만들어야 한다.\n",
    "\n",
    "- 각 데이터 분석은 정확히 한 사람이 만들어야 한다.\n",
    "\n",
    "- 각 데이터 분석은 일상적인 주제의 데이터를 바탕으로 해야 한다."
   ]
  },
  {
   "cell_type": "markdown",
   "metadata": {},
   "source": [
    "PCA로 매직더게더링 유니버스 시각화하기\n",
    "\n",
    "Using PCA to visualize the MtG universe\n",
    "\n",
    "[그림]"
   ]
  },
  {
   "cell_type": "markdown",
   "metadata": {},
   "source": [
    "크리스마스에는 어디에 가야 할까?\n",
    "\n",
    "크리스마스의 '슬로우 데이트'를 위한 데이트 스팟을 찾아보자!!"
   ]
  },
  {
   "cell_type": "markdown",
   "metadata": {},
   "source": [
    "스터디 목표\n",
    "\n",
    "데이터 수집 - 전처리 - 분석 - 시각화를 혼자 다 할 수 있게"
   ]
  },
  {
   "cell_type": "markdown",
   "metadata": {},
   "source": [
    "스터디 대상"
   ]
  },
  {
   "cell_type": "markdown",
   "metadata": {},
   "source": [
    "데이터 수집 - 전처리 - 분석 - 시각화를 한번 이상 해 봤던 사람들 (주로 7기 이상)\n",
    "\n"
   ]
  },
  {
   "cell_type": "markdown",
   "metadata": {},
   "source": [
    "스터디 방식\n",
    "\n",
    "일주일에 한번 모임\n",
    "\n",
    "데이터셋 선정\n",
    "\n",
    "일주일 간 각자 데이터 수집 - 전처리 - 분석 - 시각화\n",
    "\n",
    "모여서 피드백 & 다음 데이터셋 선정"
   ]
  },
  {
   "cell_type": "markdown",
   "metadata": {},
   "source": [
    "스터디 도구\n",
    "\n",
    "언어 무관\n",
    "\n",
    "Jupyter Notebook\n",
    "\n",
    "Github로 공유"
   ]
  },
  {
   "cell_type": "code",
   "execution_count": null,
   "metadata": {
    "collapsed": true
   },
   "outputs": [],
   "source": []
  },
  {
   "cell_type": "markdown",
   "metadata": {},
   "source": [
    "예시"
   ]
  }
 ],
 "metadata": {
  "kernelspec": {
   "display_name": "Python 3",
   "language": "python",
   "name": "python3"
  },
  "language_info": {
   "codemirror_mode": {
    "name": "ipython",
    "version": 3
   },
   "file_extension": ".py",
   "mimetype": "text/x-python",
   "name": "python",
   "nbconvert_exporter": "python",
   "pygments_lexer": "ipython3",
   "version": "3.4.3"
  }
 },
 "nbformat": 4,
 "nbformat_minor": 0
}
