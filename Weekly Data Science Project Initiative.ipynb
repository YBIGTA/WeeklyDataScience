{
 "cells": [
  {
   "cell_type": "markdown",
   "metadata": {
    "slideshow": {
     "slide_type": "slide"
    }
   },
   "source": [
    "# 주간 데이터 사이언스\n",
    "\n",
    "## Weekly Data Science"
   ]
  },
  {
   "cell_type": "markdown",
   "metadata": {
    "slideshow": {
     "slide_type": "slide"
    }
   },
   "source": [
    "# 아이디어"
   ]
  },
  {
   "cell_type": "markdown",
   "metadata": {
    "slideshow": {
     "slide_type": "subslide"
    }
   },
   "source": [
    "## “월드 오브 구” (World of Goo)\n",
    "\n",
    "<img src=\"http://ss.textcube.com/blog/2/26693/attach/XNiP9Ygaaq.jpg\" />"
   ]
  },
  {
   "cell_type": "markdown",
   "metadata": {
    "slideshow": {
     "slide_type": "notes"
    }
   },
   "source": [
    "“월드 오브 구”(World of Goo, 피그민 리뷰)를 해보신 적이 있나요? 제 정신이 아닌 게임 아이디어가 있다. 끈적한 덩어리를 끌어서 거대한 탑을 높이 높이 세우는 거다. 덩어리는 꿈틀거리고 낄낄대며 자기 형제를 타고 기어 올라간다. 하지만 끝없이 중력과 싸워야 한다. 탑이 불안정하게 세워진다면 모두 무너져 버릴 거다. \n",
    "\n",
    "이 퍼즐게임은 2008년 커다란 화제를 몰고 왔습니다. 이 게임 뿐만 아니라 이 게임이 만들어진 방식도 게임 산업에서 나름 반향을 일으켰습니다. 이 게임은 2005년 네 명의 대학원생이 진행했던 실험 프로젝트에서 기인했습니다. 그 프로젝트란 바로 “익스페리멘탈 게임플레이 프로젝트”란 이름으로 새로운 형식의 게임플레이를 발굴하기 위해 일주일 안에 민첩하게 프로토타입 게임을 만드는 것이었습니다. 약 50여개가 넘는 게임이 탄생해 인터넷으로 공개되었고, 그 중 대중적으로 가장 호응이 좋았던 “타워 오브 구”(Tower of Goo)라는 게임이 바로 “월드 오브 구”의 전신입니다.\n",
    "\n",
    "2005년 당시 그들의 프로젝트는 게임 산업에도 나름 반향을 일으켰습니다. 어떻게 그렇게 빠른 시일 내에 프로토타입을 만들 수 있었느냐는 거죠."
   ]
  },
  {
   "cell_type": "markdown",
   "metadata": {
    "slideshow": {
     "slide_type": "subslide"
    }
   },
   "source": [
    "## 익스페리멘탈 게임플레이 프로젝트"
   ]
  },
  {
   "cell_type": "markdown",
   "metadata": {
    "slideshow": {
     "slide_type": "fragment"
    }
   },
   "source": [
    "네 명의 대학원생"
   ]
  },
  {
   "cell_type": "markdown",
   "metadata": {
    "slideshow": {
     "slide_type": "fragment"
    }
   },
   "source": [
    "일주일 안에 민첩하게 프로토타입 게임 만들기"
   ]
  },
  {
   "cell_type": "markdown",
   "metadata": {
    "slideshow": {
     "slide_type": "fragment"
    }
   },
   "source": [
    "50여개가 넘는 게임 탄생"
   ]
  },
  {
   "cell_type": "markdown",
   "metadata": {
    "slideshow": {
     "slide_type": "fragment"
    }
   },
   "source": [
    "인터넷으로 공개"
   ]
  },
  {
   "cell_type": "markdown",
   "metadata": {
    "slideshow": {
     "slide_type": "fragment"
    }
   },
   "source": [
    "웹 트래픽이 폭주, 게임 잡지의 관심"
   ]
  },
  {
   "cell_type": "markdown",
   "metadata": {
    "slideshow": {
     "slide_type": "fragment"
    }
   },
   "source": [
    "“어떻게 게임을 이렇게 빨리 만들었나?” “우리도 할 수 있나?”"
   ]
  },
  {
   "cell_type": "markdown",
   "metadata": {
    "slideshow": {
     "slide_type": "subslide"
    }
   },
   "source": [
    "## [일주일 안에 게임 프로토타입 만들기](http://design-play-textcube.blogspot.kr/2009/10/%EC%9D%BC%EC%A3%BC%EC%9D%BC-%EC%95%88%EC%97%90-%EA%B2%8C%EC%9E%84-%ED%94%84%EB%A1%9C%ED%86%A0%ED%83%80%EC%9E%85-%EB%A7%8C%EB%93%A4%EA%B8%B0.html?m=1)"
   ]
  },
  {
   "cell_type": "markdown",
   "metadata": {
    "slideshow": {
     "slide_type": "subslide"
    }
   },
   "source": [
    "## 익스페리멘탈 게임플레이 프로젝트 세가지 원칙"
   ]
  },
  {
   "cell_type": "markdown",
   "metadata": {},
   "source": [
    "- 각 게임은 7일 안에 만들어야 한다.\n",
    "\n",
    "- 각 게임은 정확히 한 사람이 만들어야 한다.\n",
    "\n",
    "- 각 게임은 “중력”, “식물”, “벌떼” 등 일상적인 주제를 바탕으로 해야 한다."
   ]
  },
  {
   "cell_type": "markdown",
   "metadata": {
    "slideshow": {
     "slide_type": "notes"
    }
   },
   "source": [
    "그런데, '게임'이란 단어를 '데이터 분석'이라고 바꿔도 말이 되는 겁니다."
   ]
  },
  {
   "cell_type": "markdown",
   "metadata": {
    "slideshow": {
     "slide_type": "subslide"
    }
   },
   "source": [
    "## 주간 데이터 사이언스 프로젝트 세가지 원칙"
   ]
  },
  {
   "cell_type": "markdown",
   "metadata": {},
   "source": [
    "- 각 데이터 분석은 7일 안에 만들어야 한다.\n",
    "\n",
    "- 각 데이터 분석은 정확히 한 사람이 만들어야 한다.\n",
    "\n",
    "- 각 데이터 분석은 일상적인 주제의 데이터를 바탕으로 해야 한다."
   ]
  },
  {
   "cell_type": "markdown",
   "metadata": {
    "slideshow": {
     "slide_type": "slide"
    }
   },
   "source": [
    "# 스터디 구성"
   ]
  },
  {
   "cell_type": "markdown",
   "metadata": {
    "slideshow": {
     "slide_type": "subslide"
    }
   },
   "source": [
    "### 데이터 수집 - 전처리 - 분석 - 시각화를 일주일 안에 해보자"
   ]
  },
  {
   "cell_type": "markdown",
   "metadata": {
    "slideshow": {
     "slide_type": "subslide"
    }
   },
   "source": [
    "## 스터디 대상"
   ]
  },
  {
   "cell_type": "markdown",
   "metadata": {},
   "source": [
    "데이터 분석 프로젝트를 처음부터 끝까지 한번 이상 해 봤던 사람들 (주로 7기 이상)"
   ]
  },
  {
   "cell_type": "markdown",
   "metadata": {
    "slideshow": {
     "slide_type": "subslide"
    }
   },
   "source": [
    "## 스터디 방식\n",
    "\n",
    "일주일에 한번 모임 (시간 미정. 주말 가능성 높음)\n",
    "\n",
    "데이터셋 선정\n",
    "\n",
    "일주일 간 각자 데이터 수집 - 전처리 - 분석 - 시각화\n",
    "\n",
    "모여서 피드백 & 다음 데이터셋 선정"
   ]
  },
  {
   "cell_type": "markdown",
   "metadata": {
    "slideshow": {
     "slide_type": "subslide"
    }
   },
   "source": [
    "## 스터디 도구\n",
    "\n",
    "언어 무관\n",
    "\n",
    "Jupyter Notebook\n",
    "\n",
    "Github로 공유"
   ]
  },
  {
   "cell_type": "markdown",
   "metadata": {
    "slideshow": {
     "slide_type": "slide"
    }
   },
   "source": [
    "# 예시"
   ]
  },
  {
   "cell_type": "markdown",
   "metadata": {
    "slideshow": {
     "slide_type": "subslide"
    }
   },
   "source": [
    "## PCA로 매직더게더링 유니버스 시각화하기\n",
    "\n",
    "[Using PCA to visualize the MtG universe](http://nbviewer.jupyter.org/github/nhuber/magickmeans/blob/master/magicPCA.ipynb)\n",
    "\n",
    "<img src=\"http://nbviewer.jupyter.org/github/nhuber/magickmeans/blob/master/pca2.png\" />"
   ]
  },
  {
   "cell_type": "markdown",
   "metadata": {
    "slideshow": {
     "slide_type": "subslide"
    }
   },
   "source": [
    "## 크리스마스에는 어디에 가야 할까?\n",
    "\n",
    "[크리스마스의 '슬로우 데이트'를 위한 데이트 스팟을 찾아보자!!](http://keyassist.tistory.com/304)\n",
    "\n",
    "<img src=\"slow_date.png\" />"
   ]
  },
  {
   "cell_type": "markdown",
   "metadata": {
    "slideshow": {
     "slide_type": "slide"
    }
   },
   "source": [
    "# 결론"
   ]
  },
  {
   "cell_type": "markdown",
   "metadata": {
    "slideshow": {
     "slide_type": "subslide"
    }
   },
   "source": [
    "<img src=\"what successful people know.jpg\" />"
   ]
  }
 ],
 "metadata": {
  "celltoolbar": "Slideshow",
  "kernelspec": {
   "display_name": "Python 3",
   "language": "python",
   "name": "python3"
  },
  "language_info": {
   "codemirror_mode": {
    "name": "ipython",
    "version": 3
   },
   "file_extension": ".py",
   "mimetype": "text/x-python",
   "name": "python",
   "nbconvert_exporter": "python",
   "pygments_lexer": "ipython3",
   "version": "3.4.3"
  }
 },
 "nbformat": 4,
 "nbformat_minor": 0
}
